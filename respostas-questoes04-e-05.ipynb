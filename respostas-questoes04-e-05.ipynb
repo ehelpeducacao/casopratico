{
 "cells": [
  {
   "cell_type": "markdown",
   "metadata": {
    "application/vnd.databricks.v1+cell": {
     "cellMetadata": {},
     "inputWidgets": {},
     "nuid": "0f931968-026a-4443-995c-a1602323a6af",
     "showTitle": false,
     "title": ""
    }
   },
   "source": [
    "##Questões 04 e 05"
   ]
  },
  {
   "cell_type": "code",
   "execution_count": 0,
   "metadata": {
    "application/vnd.databricks.v1+cell": {
     "cellMetadata": {
      "byteLimit": 2048000,
      "rowLimit": 10000
     },
     "inputWidgets": {},
     "nuid": "5ca4319c-e9cc-4608-9358-6e1c01cbfb69",
     "showTitle": true,
     "title": "imports e tables usadas"
    }
   },
   "outputs": [],
   "source": [
    "import pyspark.sql.functions as f \n",
    "\n",
    "# Carregando as tabelas necessárias\n",
    "customers_df = spark.table(\"hive_metastore.default.customers\")\n",
    "orders_df = spark.table(\"hive_metastore.default.orders\")\n",
    "orderdetails_df = spark.table(\"hive_metastore.default.orderdetails\")\n",
    "products_df = spark.table(\"hive_metastore.default.products\")\n",
    "product_lines_df = spark.table(\"hive_metastore.default.product_lines\")\n",
    "employees_df = spark.table(\"hive_metastore.default.employees\")\n",
    "offices_df = spark.table(\"hive_metastore.default.offices\")"
   ]
  },
  {
   "cell_type": "code",
   "execution_count": 0,
   "metadata": {
    "application/vnd.databricks.v1+cell": {
     "cellMetadata": {
      "byteLimit": 2048000,
      "rowLimit": 10000
     },
     "inputWidgets": {},
     "nuid": "ad05fb65-467d-4068-baf5-0eb5c39a86bf",
     "showTitle": true,
     "title": "Resposta (a): Qual país possui a maior quantidade de itens cancelados?"
    }
   },
   "outputs": [
    {
     "output_type": "stream",
     "name": "stdout",
     "output_type": "stream",
     "text": [
      "+-----------+--------------------+\n|    country|qnt_itens_cancelados|\n+-----------+--------------------+\n|New Zealand|                  19|\n+-----------+--------------------+\n\n"
     ]
    }
   ],
   "source": [
    "\n",
    "df_itens_cancelados = orders_df.filter(orders_df.status == \"Cancelled\") \\\n",
    "    .join(orderdetails_df, \"order_number\") \\\n",
    "    .join(customers_df, \"customer_number\") \\\n",
    "    .groupBy(\"country\") \\\n",
    "    .count() \\\n",
    "    .withColumnRenamed(\"count\", \"qnt_itens_cancelados\") \\\n",
    "    .orderBy(f.col(\"qnt_itens_cancelados\").desc()) \\\n",
    "    .limit(1)\n",
    "\n",
    "df_itens_cancelados.show()\n",
    "\n",
    "df_itens_cancelados.write.format(\"delta\").mode(\"overwrite\").save(\"/mnt/join/delta/itens_cancelados\")"
   ]
  },
  {
   "cell_type": "code",
   "execution_count": 0,
   "metadata": {
    "application/vnd.databricks.v1+cell": {
     "cellMetadata": {
      "byteLimit": 2048000,
      "rowLimit": 10000
     },
     "inputWidgets": {},
     "nuid": "de293deb-5b23-4890-b040-88fcb34dd858",
     "showTitle": true,
     "title": "Qual o faturamento da linha de produto mais vendido, considerando pedidos com status 'Shipped' no ano de 2005?"
    }
   },
   "outputs": [
    {
     "output_type": "stream",
     "name": "stdout",
     "output_type": "stream",
     "text": [
      "+------------+-----------+\n|product_line|faturamento|\n+------------+-----------+\n|Classic Cars|  603666.99|\n+------------+-----------+\n\n"
     ]
    }
   ],
   "source": [
    "df_order_shipped = orders_df.filter((orders_df.status == \"Shipped\") & (f.year(orders_df.order_date) == 2005))\n",
    "\n",
    "df_faturamento_lp_shipped = df_order_shipped \\\n",
    "    .join(orderdetails_df, \"order_number\") \\\n",
    "    .join(products_df, \"product_code\") \\\n",
    "    .join(product_lines_df, \"product_line\") \\\n",
    "    .groupBy(\"product_line\") \\\n",
    "    .agg(f.sum(f.col(\"quantity_ordered\") * f.col(\"price_each\")).alias(\"faturamento\")) \\\n",
    "    .orderBy(f.col(\"faturamento\").desc()) \\\n",
    "    .limit(1)\n",
    "\n",
    "df_faturamento_lp_shipped.show()\n",
    "\n",
    "df_faturamento_lp_shipped.write.format(\"delta\").mode(\"overwrite\").save(\"/mnt/join/delta/faturamento_lp_shipped\")"
   ]
  },
  {
   "cell_type": "code",
   "execution_count": 0,
   "metadata": {
    "application/vnd.databricks.v1+cell": {
     "cellMetadata": {
      "byteLimit": 2048000,
      "rowLimit": 10000
     },
     "inputWidgets": {},
     "nuid": "42656dea-cfe5-4e28-ae26-df9185d0b321",
     "showTitle": true,
     "title": "c.\tTraga na consulta o Nome, sobrenome e e-mail dos vendedores do Japão, lembrando que o local-part do e-mail deve estar mascarado."
    }
   },
   "outputs": [
    {
     "output_type": "stream",
     "name": "stdout",
     "output_type": "stream",
     "text": [
      "+----------+---------+--------------------+\n|first_name|last_name|        masked_email|\n+----------+---------+--------------------+\n|      Mami|    Nishi|*****classicmodel...|\n|   Yoshimi|     Kato|*****classicmodel...|\n+----------+---------+--------------------+\n\n"
     ]
    }
   ],
   "source": [
    "df_vendedores_japao = employees_df \\\n",
    "    .join(offices_df, \"office_code\") \\\n",
    "    .filter(offices_df.country == \"Japan\") \\\n",
    "    .select(\n",
    "        \"first_name\", \n",
    "        \"last_name\", \n",
    "        f.concat(f.lit(\"*****\"), f.substring_index(f.col(\"email\"), \"@\", -1)).alias(\"masked_email\")\n",
    "    )\n",
    "\n",
    "df_vendedores_japao.show()\n",
    "\n",
    "df_vendedores_japao.write.format(\"delta\").mode(\"overwrite\").save(\"/mnt/join/delta/vendedores_japao\")\n"
   ]
  }
 ],
 "metadata": {
  "application/vnd.databricks.v1+notebook": {
   "dashboards": [],
   "environmentMetadata": null,
   "language": "python",
   "notebookMetadata": {
    "pythonIndentUnit": 4
   },
   "notebookName": "respostas-questoes04-e-05",
   "widgets": {}
  }
 },
 "nbformat": 4,
 "nbformat_minor": 0
}
