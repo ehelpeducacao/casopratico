{
 "cells": [
  {
   "cell_type": "code",
   "execution_count": 0,
   "metadata": {
    "application/vnd.databricks.v1+cell": {
     "cellMetadata": {
      "byteLimit": 2048000,
      "rowLimit": 10000
     },
     "inputWidgets": {},
     "nuid": "a9775400-2b07-4419-81fe-a1f22b57c1ff",
     "showTitle": false,
     "title": ""
    }
   },
   "outputs": [],
   "source": [
    "from pyspark.sql.utils import AnalysisException\n",
    "import os\n",
    "\n"
   ]
  },
  {
   "cell_type": "code",
   "execution_count": 0,
   "metadata": {
    "application/vnd.databricks.v1+cell": {
     "cellMetadata": {
      "byteLimit": 2048000,
      "rowLimit": 10000
     },
     "inputWidgets": {},
     "nuid": "6dd483dd-3691-43cf-a923-679af450c34a",
     "showTitle": false,
     "title": ""
    }
   },
   "outputs": [],
   "source": [
    "host = os.getenv('DB_HOST')\n",
    "database = os.getenv('DB_DATABASE')\n",
    "port = os.getenv('DB_PORT')\n",
    "username = os.getenv('DB_USERNAME')\n",
    "password = os.getenv('DB_PASSWORD')\n",
    "url = f\"jdbc:postgresql://{host}:{port}/{database}\"\n",
    "\n",
    "properties = {\n",
    "    \"user\": username,\n",
    "    \"password\": password,\n",
    "    \"driver\": \"org.postgresql.Driver\"\n",
    "}\n"
   ]
  },
  {
   "cell_type": "code",
   "execution_count": 0,
   "metadata": {
    "application/vnd.databricks.v1+cell": {
     "cellMetadata": {
      "byteLimit": 2048000,
      "rowLimit": 10000
     },
     "inputWidgets": {},
     "nuid": "ebfa9bca-cd8f-48d0-b795-d91a6b41b45c",
     "showTitle": false,
     "title": ""
    }
   },
   "outputs": [
    {
     "output_type": "stream",
     "name": "stdout",
     "output_type": "stream",
     "text": [
      "['customers', 'employees', 'offices', 'orderdetails', 'orders', 'payments', 'product_lines', 'products']\n"
     ]
    }
   ],
   "source": [
    "\n",
    "tables_query = \"(\\\n",
    "    SELECT \\\n",
    "        table_name \\\n",
    "    FROM \\\n",
    "        information_schema.tables \\\n",
    "    WHERE table_schema = 'public' \\\n",
    "        and table_name not like 'pg_%' \\\n",
    ") AS table_list\"\n",
    "tables_df = spark.read.jdbc(url=url, table=tables_query, properties=properties)\n",
    "table_names = [row['table_name'] for row in tables_df.collect()]\n",
    "\n",
    "print(table_names)\n"
   ]
  },
  {
   "cell_type": "code",
   "execution_count": 0,
   "metadata": {
    "application/vnd.databricks.v1+cell": {
     "cellMetadata": {
      "byteLimit": 2048000,
      "rowLimit": 10000
     },
     "inputWidgets": {},
     "nuid": "d2bdd1e5-ad64-4a13-bbf2-b5f2aa00be83",
     "showTitle": false,
     "title": ""
    }
   },
   "outputs": [
    {
     "output_type": "stream",
     "name": "stdout",
     "output_type": "stream",
     "text": [
      "+---------------+--------------------+-----------------+------------------+-----------------+--------------------+--------------------+-------------+--------+-----------+---------+-------------------------+------------+\n|customer_number|       customer_name|contact_last_name|contact_first_name|            phone|       address_line1|       address_line2|         city|   state|postal_code|  country|sales_rep_employee_number|credit_limit|\n+---------------+--------------------+-----------------+------------------+-----------------+--------------------+--------------------+-------------+--------+-----------+---------+-------------------------+------------+\n|            103|                Jake|             King|           Carine |       40.32.2555|      54, rue Royale|                null|       Nantes|Victoria|      44000|   France|                     1370|    21000.00|\n|            112|   Signal Gift Store|             King|              Jean|       7025551838|     8489 Strong St.|                null|    Las Vegas|New York|      83030|      USA|                     1166|    71800.00|\n|            114|Australian Collec...|         Ferguson|         Peter Sr.|     03 9520 4555|   636 St Kilda Road|             Level 3|    Melbourne|Victoria|       3004|Australia|                     1611|   117300.00|\n|            119|   La Rochelle Gifts|          Labrune|           Janine |       40.67.8555|67, rue des Cinqu...|                null|       Nantes|    null|      44000|   France|                     1370|   118200.00|\n|            121|  Baane Mini Imports|       Bergulfsen|            Jonas |       07-98 9555|Erling Skakkes ga...|                null|      Stavern|    null|       4110|   Norway|                     1504|    81700.00|\n|            124|Mini Gifts Distri...|           Nelson|             Susan|       4155551450|     5677 Strong St.|                null|   San Rafael|      CA|      97562|      USA|                     1165|   210500.00|\n|            125|  Havel & Zbyszek Co|  Piestrzeniewicz|          Zbyszek |    (26) 642-7555|     ul. Filtrowa 68|                null|     Warszawa|    null|     01-012|   Poland|                     null|        0.00|\n|            128|Blauer See Auto, Co.|           Keitel|            Roland|+49 69 66 90 2555|       Lyonerstr. 34|                null|    Frankfurt|    null|      60528|  Germany|                     1504|    59700.00|\n|            129|     Mini Wheels Co.|           Murphy|             Julie|       6505555787|5557 North Pendal...|                null|San Francisco|      CA|      94217|      USA|                     1165|    64600.00|\n|            131|   Land of Toys Inc.|              Lee|              Kwai|       2125557818|897 Long Airport ...|                null|          NYC|      NY|      10022|      USA|                     1323|   114900.00|\n|            141|Euro+ Shopping Ch...|           Freyre|            Diego |   (91) 555 94 44|  C/ Moralzarzal, 86|                null|       Madrid|    null|      28034|    Spain|                     1370|   227600.00|\n|            144|Volvo Model Repli...|         Berglund|        Christina |     0921-12 3555|     Berguvsv�gen  8|                null|        Lule�|    null|   S-958 22|   Sweden|                     1504|    53100.00|\n|            145|Danish Wholesale ...|         Petersen|            Jytte |       31 12 3555|        Vinb�ltet 34|                null|    Kobenhavn|    null|       1734|  Denmark|                     1401|    83400.00|\n|            146|Saveley & Henriot...|          Saveley|             Mary |       78.32.5555|  2, rue du Commerce|                null|         Lyon|    null|      69004|   France|                     1337|   123900.00|\n|            148|Dragon Souveniers...|        Natividad|              Eric|     +65 221 7555|          Bronz Sok.|Bronz Apt. 3/6 Te...|    Singapore|    null|     079903|Singapore|                     1621|   103800.00|\n|            151|  Muscle Machine Inc|            Young|              Jeff|       2125557413|   4092 Furth Circle|           Suite 400|          NYC|      NY|      10022|      USA|                     1286|   138500.00|\n|            157|Diecast Classics ...|            Leong|            Kelvin|       2155551555|    7586 Pompton St.|                null|    Allentown|      PA|      70267|      USA|                     1216|   100600.00|\n|            161|Technics Stores Inc.|        Hashimoto|              Juri|       6505556809|   9408 Furth Circle|                null|   Burlingame|      CA|      94217|      USA|                     1165|    84600.00|\n|            166|    Handji Gifts& Co|        Victorino|             Wendy|     +65 224 1555|106 Linden Road S...|           2nd Floor|    Singapore|    null|     069045|Singapore|                     1612|    97900.00|\n|            167|        Herkku Gifts|           Oeztan|            Veysel|    +47 2267 3215|     Brehmen St. 121|      PR 334 Sentrum|       Bergen|    null|     N 5804| Norway  |                     1504|    96800.00|\n+---------------+--------------------+-----------------+------------------+-----------------+--------------------+--------------------+-------------+--------+-----------+---------+-------------------------+------------+\nonly showing top 20 rows\n\nTabela customers exportada para Delta Lake em /mnt/join/delta/customers\nTabela customers registrada no catálogo com sucesso.\n+---------------+---------+----------+---------+--------------------+-----------+----------+--------------------+\n|employee_number|last_name|first_name|extension|               email|office_code|reports_to|           job_Title|\n+---------------+---------+----------+---------+--------------------+-----------+----------+--------------------+\n|           1002|   Murphy|     Diane|    x5800|dmurphy@classicmo...|          1|      null|           President|\n|           1056|Patterson|      Mary|    x4611|mpatterso@classic...|          1|      1002|            VP Sales|\n|           1076| Firrelli|      Jeff|    x9273|jfirrelli@classic...|          1|      1002|        VP Marketing|\n|           1088|Patterson|   William|    x4871|wpatterson@classi...|          6|      1056|Sales Manager (APAC)|\n|           1102|   Bondur|    Gerard|    x5408|gbondur@classicmo...|          4|      1056| Sale Manager (EMEA)|\n|           1143|      Bow|   Anthony|    x5428|abow@classicmodel...|          1|      1056|  Sales Manager (NA)|\n|           1165| Jennings|    Leslie|    x3291|ljennings@classic...|          1|      1143|           Sales Rep|\n|           1166| Thompson|    Leslie|    x4065|lthompson@classic...|          1|      1143|           Sales Rep|\n|           1188| Firrelli|     Julie|    x2173|jfirrelli@classic...|          2|      1143|           Sales Rep|\n|           1216|Patterson|     Steve|    x4334|spatterson@classi...|          2|      1143|           Sales Rep|\n|           1286|    Tseng|  Foon Yue|    x2248|ftseng@classicmod...|          3|      1143|           Sales Rep|\n|           1323|   Vanauf|    George|    x4102|gvanauf@classicmo...|          3|      1143|           Sales Rep|\n|           1337|   Bondur|      Loui|    x6493|lbondur@classicmo...|          4|      1102|           Sales Rep|\n|           1370|Hernandez|    Gerard|    x2028|ghernande@classic...|          4|      1102|           Sales Rep|\n|           1401| Castillo|    Pamela|    x2759|pcastillo@classic...|          4|      1102|           Sales Rep|\n|           1501|     Bott|     Larry|    x2311|lbott@classicmode...|          7|      1102|           Sales Rep|\n|           1504|    Jones|     Barry|     x102|bjones@classicmod...|          7|      1102|           Sales Rep|\n|           1611|   Fixter|      Andy|     x101|afixter@classicmo...|          6|      1088|           Sales Rep|\n|           1612|    Marsh|     Peter|     x102|pmarsh@classicmod...|          6|      1088|           Sales Rep|\n|           1619|     King|       Tom|     x103|tking@classicmode...|          6|      1088|           Sales Rep|\n+---------------+---------+----------+---------+--------------------+-----------+----------+--------------------+\nonly showing top 20 rows\n\nTabela employees exportada para Delta Lake em /mnt/join/delta/employees\nTabela employees registrada no catálogo com sucesso.\n+-----------+---------------+----------------+--------------------+-------------+----------+---------+-----------+---------+\n|office_code|           city|           phone|       address_line1|address_line2|     state|  country|postal_code|territory|\n+-----------+---------------+----------------+--------------------+-------------+----------+---------+-----------+---------+\n|          1|San Francisco11| +1 650 219 4782|   100 Market Street|    Suite 300|        CA|      USA|      94080|       NA|\n|          2|         Boston| +1 215 837 0825|    1550 Court Place|    Suite 102|        MA|      USA|      02107|       NA|\n|          3|           NYC1| +1 212 555 3000|523 East 53rd Street|      apt. 5A|        NY|      USA|      10022|       NA|\n|          4|          Paris| +33 14 723 4404|43 Rue Jouffroy D...|         null|      null|   France|      75017|     EMEA|\n|          5|          Tokyo| +81 33 224 5000|         4-1 Kioicho|         null|Chiyoda-Ku|    Japan|   102-8578|    Japan|\n|          6|        Sydney1| +61 2 9264 2451|5-11 Wentworth Av...|     Floor #2|      null|Australia|   NSW 2010|     APAC|\n|          7|        London1|+44 20 7877 2041| 25 Old Broad Street|      Level 7|      null|       UK|   EC2N 1HN|     EMEA|\n+-----------+---------------+----------------+--------------------+-------------+----------+---------+-----------+---------+\n\nTabela offices exportada para Delta Lake em /mnt/join/delta/offices\nTabela offices registrada no catálogo com sucesso.\n+------------+------------+----------------+----------+-----------------+\n|order_number|product_code|quantity_ordered|price_each|order_line_number|\n+------------+------------+----------------+----------+-----------------+\n|       10100|    S18_1749|              30|    136.00|                3|\n|       10100|    S18_2248|              50|     55.09|                2|\n|       10100|    S18_4409|              22|     75.46|                4|\n|       10100|    S24_3969|              49|     35.29|                1|\n|       10101|    S18_2325|              25|    108.06|                4|\n|       10101|    S18_2795|              26|    167.06|                1|\n|       10101|    S24_1937|              45|     32.53|                3|\n|       10101|    S24_2022|              46|     44.35|                2|\n|       10102|    S18_1342|              39|     95.55|                2|\n|       10102|    S18_1367|              41|     43.13|                1|\n|       10103|    S10_1949|              26|    214.30|               11|\n|       10103|    S10_4962|              42|    119.67|                4|\n|       10103|    S12_1666|              27|    121.64|                8|\n|       10103|    S18_1097|              35|     94.50|               10|\n|       10103|    S18_2432|              22|     58.34|                2|\n|       10103|    S18_2949|              27|     92.19|               12|\n|       10103|    S18_2957|              35|     61.84|               14|\n|       10103|    S18_3136|              25|     86.92|               13|\n|       10103|    S18_3320|              46|     86.31|               16|\n|       10103|    S18_4600|              36|     98.07|                5|\n+------------+------------+----------------+----------+-----------------+\nonly showing top 20 rows\n\nTabela orderdetails exportada para Delta Lake em /mnt/join/delta/orderdetails\nTabela orderdetails registrada no catálogo com sucesso.\n+------------+----------+-------------+------------+--------+--------------------+---------------+\n|order_number|order_date|required_date|shipped_date|  status|            comments|customer_number|\n+------------+----------+-------------+------------+--------+--------------------+---------------+\n|       10100|2003-01-06|   2003-01-13|  2003-01-10|Resolved|                null|            363|\n|       10101|2003-01-09|   2003-01-18|  2003-01-11| Shipped|Check on availabi...|            128|\n|       10102|2003-01-10|   2003-01-18|  2003-01-14| Shipped|                    |            181|\n|       10103|2003-01-29|   2003-02-07|  2003-02-02| Shipped|                null|            121|\n|       10104|2003-01-31|   2003-02-09|  2003-02-01| Shipped|                null|            141|\n|       10105|2003-02-11|   2003-02-21|  2003-02-12| Shipped|                null|            145|\n|       10106|2003-02-17|   2003-02-24|  2003-02-21| Shipped|                null|            278|\n|       10107|2003-02-24|   2003-03-03|  2003-02-26| Shipped|Difficult to nego...|            131|\n|       10108|2003-03-03|   2003-03-12|  2003-03-08| Shipped|                null|            385|\n|       10109|2003-03-10|   2003-03-19|  2003-03-11| Shipped|Customer requeste...|            486|\n|       10110|2003-03-18|   2003-03-24|  2003-03-20| Shipped|                null|            187|\n|       10111|2003-03-25|   2003-03-31|  2003-03-30| Shipped|                null|            129|\n|       10112|2003-03-24|   2003-04-03|  2003-03-29| Shipped|Customer requeste...|            144|\n|       10113|2003-03-26|   2003-04-02|  2003-03-27| Shipped|                null|            124|\n|       10114|2003-04-01|   2003-04-07|  2003-04-02| Shipped|                null|            172|\n|       10115|2003-04-04|   2003-04-12|  2003-04-07| Shipped|                null|            424|\n|       10116|2003-04-11|   2003-04-19|  2003-04-13| Shipped|                null|            381|\n|       10117|2003-04-16|   2003-04-24|  2003-04-17| Shipped|                null|            148|\n|       10118|2003-04-21|   2003-04-29|  2003-04-26| Shipped|Customer has work...|            216|\n|       10119|2003-04-28|   2003-05-05|  2003-05-02| Shipped|                null|            382|\n+------------+----------+-------------+------------+--------+--------------------+---------------+\nonly showing top 20 rows\n\nTabela orders exportada para Delta Lake em /mnt/join/delta/orders\nTabela orders registrada no catálogo com sucesso.\n+---------------+------------+------------+---------+\n|customer_number|check_number|payment_date|   amount|\n+---------------+------------+------------+---------+\n|            103|    HQ336336|  2004-10-19|  6066.78|\n|            103|    JM555205|  2003-06-05| 14571.44|\n|            103|    OM314933|  2004-12-18|  1676.14|\n|            112|    BO864823|  2004-12-17| 14191.12|\n|            112|     HQ55022|  2003-06-06| 32641.98|\n|            112|    ND748579|  2004-08-20| 33347.88|\n|            114|     GG31455|  2003-05-20| 45864.03|\n|            114|    MA765515|  2004-12-15| 82261.22|\n|            114|    NP603840|  2003-05-31|  7565.08|\n|            114|     NR27552|  2004-03-10| 44894.74|\n|            119|    DB933704|  2004-11-14| 19501.82|\n|            119|    LN373447|  2004-08-08| 47924.19|\n|            119|     NG94694|  2005-02-22| 49523.67|\n|            121|    DB889831|  2003-02-16| 50218.95|\n|            121|    FD317790|  2003-10-28|  1491.38|\n|            121|    KI831359|  2004-11-04| 17876.32|\n|            121|    MA302151|  2004-11-28| 34638.14|\n|            124|    AE215433|  2005-03-05|101244.59|\n|            124|    BG255406|  2004-08-28| 85410.87|\n|            124|    CQ287967|  2003-04-11| 11044.30|\n+---------------+------------+------------+---------+\nonly showing top 20 rows\n\nTabela payments exportada para Delta Lake em /mnt/join/delta/payments\nTabela payments registrada no catálogo com sucesso.\n+----------------+--------------------+----------------+-----+\n|    product_line|    text_description|html_description|image|\n+----------------+--------------------+----------------+-----+\n|    Classic Cars|Attention car ent...|            null| null|\n|     Motorcycles|Our motorcycles a...|            null| null|\n|          Planes|Unique, diecast a...|            null| null|\n|           Ships|The perfect holid...|            null| null|\n|          Trains|Model trains are ...|            null| null|\n|Trucks and Buses|The Truck and Bus...|            null| null|\n|    Vintage Cars|Our Vintage Car m...|            null| null|\n+----------------+--------------------+----------------+-----+\n\nTabela product_lines exportada para Delta Lake em /mnt/join/delta/product_lines\nTabela product_lines registrada no catálogo com sucesso.\n+------------+--------------------+----------------+-------------+--------------------+--------------------+-----------------+---------+------+\n|product_code|        product_name|    product_line|product_scale|      product_vendor| product_description|quantity_in_stock|buy_price|  msrp|\n+------------+--------------------+----------------+-------------+--------------------+--------------------+-----------------+---------+------+\n|    S10_1678|1969 Harley David...|     Motorcycles|         1:10|     Min Lin Diecast|This replica feat...|             7933|    48.81| 95.70|\n|    S10_1949| Alpine Renault 1300|    Classic Cars|         1:10|Classic Metal Cre...|Turnable front wh...|             7305|    98.58|214.30|\n|    S10_2016|1996 Moto Guzzi 1...|     Motorcycles|         1:10|Highway 66 Mini C...|Official Moto Guz...|             6625|    68.99|118.94|\n|    S10_4698|2003 Harley-David...|     Motorcycles|         1:10|   Red Start Diecast|Model features, o...|             5582|    91.02|193.66|\n|    S10_4757| 1972 Alfa Romeo GTA|    Classic Cars|         1:10|Motor City Art Cl...|Features include:...|             3252|    85.68|136.00|\n|    S10_4962|1962 LanciaA Delt...|    Classic Cars|         1:10| Second Gear Diecast|Features include:...|             6791|   103.42|147.74|\n|    S12_1099|   1968 Fods Mustang|    Classic Cars|         1:12|Autoart Studio De...|Hood, doors and t...|               68|    95.34|194.57|\n|    S12_1108|   2001 Ferrari Enzo|    Classic Cars|         1:12| Second Gear Diecast|Turnable front wh...|             3619|    95.59|207.80|\n|    S12_1666|      1958 Setra Bus|Trucks and Buses|         1:12|Welly Diecast Pro...|Model features 30...|             1579|    77.90|136.67|\n|    S12_2823|    2002 Suzuki XREO|     Motorcycles|         1:12|Unimax Art Galleries|Official logos an...|             9997|    66.27|150.62|\n|    S12_3148|  1969 Corvair Monza|    Classic Cars|         1:18|Welly Diecast Pro...|1:18 scale die-ca...|             6906|    89.14|151.08|\n|    S12_3380|  1968 Dodge Charger|    Classic Cars|         1:12|Welly Diecast Pro...|1:12 scale model ...|             9123|    75.16|117.44|\n|    S12_3891|    1960 Ford Falcon|    Classic Cars|         1:12| Second Gear Diecast|Turnable front wh...|             1049|    80.05|173.02|\n|    S12_3990|1970 Plymouth Hem...|    Classic Cars|         1:12| Studio M Art Models|Very detailed 197...|             5663|    31.92| 79.80|\n|    S12_4473|   1957 Chevy Pickup|Trucks and Buses|         1:12|       Exoto Designs|1:12 scale die-ca...|             6125|    55.70|118.50|\n|    S12_4675|  1969 Dodge Charger|    Classic Cars|         1:12|Welly Diecast Pro...|Detailed model of...|             7323|    58.73|115.16|\n|    S18_1097|1940 Ford Pickup ...|Trucks and Buses|         1:18| Studio M Art Models|This model featur...|             2613|    58.33|116.67|\n|    S18_1129|     1993 Mazda RX-7|    Classic Cars|         1:18|Highway 66 Mini C...|This model featur...|             3975|    83.51|141.54|\n|    S18_1342|1937 Lincoln Berline|    Vintage Cars|         1:18|Motor City Art Cl...|Features opening ...|             8693|    60.62|102.74|\n|    S18_1367|1936 Mercedes-Ben...|    Vintage Cars|         1:18| Studio M Art Models|This 1:18 scale r...|             8635|    24.26| 53.91|\n+------------+--------------------+----------------+-------------+--------------------+--------------------+-----------------+---------+------+\nonly showing top 20 rows\n\nTabela products exportada para Delta Lake em /mnt/join/delta/products\nTabela products registrada no catálogo com sucesso.\n"
     ]
    }
   ],
   "source": [
    "for table in table_names:\n",
    "    try:\n",
    "        table_df = spark.read.jdbc(url=url, table=table, properties=properties)\n",
    "        table_df = table_df.repartition(1)\n",
    "        delta_path = f\"/mnt/case/delta/{table}\"  \n",
    "        table_df.write.format(\"delta\").mode(\"overwrite\").save(delta_path)\n",
    "        spark.sql(f\"CREATE TABLE IF NOT EXISTS {table} USING DELTA LOCATION '{delta_path}'\")\n",
    "        print(f\"Tabela {table} exportada para Delta Lake em {delta_path}\")\n",
    "        print(f\"Tabela {table} registrada no catálogo com sucesso.\")\n",
    "    except AnalysisException as e:\n",
    "        print(f\"Erro ao exportar a tabela {table}: {e}\")\n",
    "    except Exception as e:\n",
    "        print(f\"Erro geral ao exportar a tabela {table}: {e}\")"
   ]
  }
 ],
 "metadata": {
  "application/vnd.databricks.v1+notebook": {
   "dashboards": [],
   "environmentMetadata": null,
   "language": "python",
   "notebookMetadata": {
    "mostRecentlyExecutedCommandWithImplicitDF": {
     "commandId": 3126083053636137,
     "dataframes": [
      "_sqldf"
     ]
    },
    "pythonIndentUnit": 4
   },
   "notebookName": "Extract Tables",
   "widgets": {}
  }
 },
 "nbformat": 4,
 "nbformat_minor": 0
}
